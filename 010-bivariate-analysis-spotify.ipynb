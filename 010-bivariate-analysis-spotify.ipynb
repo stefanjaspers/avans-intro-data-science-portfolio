{
 "cells": [
  {
   "cell_type": "markdown",
   "metadata": {},
   "source": [
    "# Intro data science - portfolio assignment 10: Spotify dataset"
   ]
  },
  {
   "cell_type": "markdown",
   "metadata": {},
   "source": [
    "15 min: Perform a bivariate analysis (Pearson correlation and scatter plot) on at least 1 combination of 2 columns with numeric data in the dataset that you chose in portfolio assignment 4. Does the correlation and scatter plot match your expectations? Add your answer to your notebook. Commit your Notebook to your portfolio when finished."
   ]
  },
  {
   "cell_type": "code",
   "execution_count": 17,
   "metadata": {},
   "outputs": [],
   "source": [
    "import pandas as pd\n",
    "import matplotlib.pyplot as plt\n",
    "import numpy as np\n",
    "plt.close('all')"
   ]
  },
  {
   "cell_type": "code",
   "execution_count": 3,
   "metadata": {},
   "outputs": [],
   "source": [
    "songs = pd.read_csv('datasets/04-top-spotify-songs-10s.csv', sep=',', engine='python')"
   ]
  },
  {
   "cell_type": "code",
   "execution_count": 4,
   "metadata": {},
   "outputs": [
    {
     "data": {
      "text/html": [
       "<div>\n",
       "<style scoped>\n",
       "    .dataframe tbody tr th:only-of-type {\n",
       "        vertical-align: middle;\n",
       "    }\n",
       "\n",
       "    .dataframe tbody tr th {\n",
       "        vertical-align: top;\n",
       "    }\n",
       "\n",
       "    .dataframe thead th {\n",
       "        text-align: right;\n",
       "    }\n",
       "</style>\n",
       "<table border=\"1\" class=\"dataframe\">\n",
       "  <thead>\n",
       "    <tr style=\"text-align: right;\">\n",
       "      <th></th>\n",
       "      <th>Unnamed: 0</th>\n",
       "      <th>title</th>\n",
       "      <th>artist</th>\n",
       "      <th>top genre</th>\n",
       "      <th>year</th>\n",
       "      <th>bpm</th>\n",
       "      <th>nrgy</th>\n",
       "      <th>dnce</th>\n",
       "      <th>dB</th>\n",
       "      <th>live</th>\n",
       "      <th>val</th>\n",
       "      <th>dur</th>\n",
       "      <th>acous</th>\n",
       "      <th>spch</th>\n",
       "      <th>pop</th>\n",
       "    </tr>\n",
       "  </thead>\n",
       "  <tbody>\n",
       "    <tr>\n",
       "      <th>0</th>\n",
       "      <td>1</td>\n",
       "      <td>Hey, Soul Sister</td>\n",
       "      <td>Train</td>\n",
       "      <td>neo mellow</td>\n",
       "      <td>2010</td>\n",
       "      <td>97</td>\n",
       "      <td>89</td>\n",
       "      <td>67</td>\n",
       "      <td>-4</td>\n",
       "      <td>8</td>\n",
       "      <td>80</td>\n",
       "      <td>217</td>\n",
       "      <td>19</td>\n",
       "      <td>4</td>\n",
       "      <td>83</td>\n",
       "    </tr>\n",
       "    <tr>\n",
       "      <th>1</th>\n",
       "      <td>2</td>\n",
       "      <td>Love The Way You Lie</td>\n",
       "      <td>Eminem</td>\n",
       "      <td>detroit hip hop</td>\n",
       "      <td>2010</td>\n",
       "      <td>87</td>\n",
       "      <td>93</td>\n",
       "      <td>75</td>\n",
       "      <td>-5</td>\n",
       "      <td>52</td>\n",
       "      <td>64</td>\n",
       "      <td>263</td>\n",
       "      <td>24</td>\n",
       "      <td>23</td>\n",
       "      <td>82</td>\n",
       "    </tr>\n",
       "    <tr>\n",
       "      <th>2</th>\n",
       "      <td>3</td>\n",
       "      <td>TiK ToK</td>\n",
       "      <td>Kesha</td>\n",
       "      <td>dance pop</td>\n",
       "      <td>2010</td>\n",
       "      <td>120</td>\n",
       "      <td>84</td>\n",
       "      <td>76</td>\n",
       "      <td>-3</td>\n",
       "      <td>29</td>\n",
       "      <td>71</td>\n",
       "      <td>200</td>\n",
       "      <td>10</td>\n",
       "      <td>14</td>\n",
       "      <td>80</td>\n",
       "    </tr>\n",
       "    <tr>\n",
       "      <th>3</th>\n",
       "      <td>4</td>\n",
       "      <td>Bad Romance</td>\n",
       "      <td>Lady Gaga</td>\n",
       "      <td>dance pop</td>\n",
       "      <td>2010</td>\n",
       "      <td>119</td>\n",
       "      <td>92</td>\n",
       "      <td>70</td>\n",
       "      <td>-4</td>\n",
       "      <td>8</td>\n",
       "      <td>71</td>\n",
       "      <td>295</td>\n",
       "      <td>0</td>\n",
       "      <td>4</td>\n",
       "      <td>79</td>\n",
       "    </tr>\n",
       "    <tr>\n",
       "      <th>4</th>\n",
       "      <td>5</td>\n",
       "      <td>Just the Way You Are</td>\n",
       "      <td>Bruno Mars</td>\n",
       "      <td>pop</td>\n",
       "      <td>2010</td>\n",
       "      <td>109</td>\n",
       "      <td>84</td>\n",
       "      <td>64</td>\n",
       "      <td>-5</td>\n",
       "      <td>9</td>\n",
       "      <td>43</td>\n",
       "      <td>221</td>\n",
       "      <td>2</td>\n",
       "      <td>4</td>\n",
       "      <td>78</td>\n",
       "    </tr>\n",
       "  </tbody>\n",
       "</table>\n",
       "</div>"
      ],
      "text/plain": [
       "   Unnamed: 0                 title      artist        top genre  year  bpm  \\\n",
       "0           1      Hey, Soul Sister       Train       neo mellow  2010   97   \n",
       "1           2  Love The Way You Lie      Eminem  detroit hip hop  2010   87   \n",
       "2           3               TiK ToK       Kesha        dance pop  2010  120   \n",
       "3           4           Bad Romance   Lady Gaga        dance pop  2010  119   \n",
       "4           5  Just the Way You Are  Bruno Mars              pop  2010  109   \n",
       "\n",
       "   nrgy  dnce  dB  live  val  dur  acous  spch  pop  \n",
       "0    89    67  -4     8   80  217     19     4   83  \n",
       "1    93    75  -5    52   64  263     24    23   82  \n",
       "2    84    76  -3    29   71  200     10    14   80  \n",
       "3    92    70  -4     8   71  295      0     4   79  \n",
       "4    84    64  -5     9   43  221      2     4   78  "
      ]
     },
     "execution_count": 4,
     "metadata": {},
     "output_type": "execute_result"
    }
   ],
   "source": [
    "songs.head()"
   ]
  },
  {
   "cell_type": "markdown",
   "metadata": {},
   "source": [
    "I suspect there is a correlation between the energy and danceability of a song. Let's use the Pearson correlation and a scatter plot to find out whether this is the case or not."
   ]
  },
  {
   "cell_type": "code",
   "execution_count": 6,
   "metadata": {},
   "outputs": [
    {
     "data": {
      "text/html": [
       "<div>\n",
       "<style scoped>\n",
       "    .dataframe tbody tr th:only-of-type {\n",
       "        vertical-align: middle;\n",
       "    }\n",
       "\n",
       "    .dataframe tbody tr th {\n",
       "        vertical-align: top;\n",
       "    }\n",
       "\n",
       "    .dataframe thead th {\n",
       "        text-align: right;\n",
       "    }\n",
       "</style>\n",
       "<table border=\"1\" class=\"dataframe\">\n",
       "  <thead>\n",
       "    <tr style=\"text-align: right;\">\n",
       "      <th></th>\n",
       "      <th>nrgy</th>\n",
       "      <th>dnce</th>\n",
       "    </tr>\n",
       "  </thead>\n",
       "  <tbody>\n",
       "    <tr>\n",
       "      <th>nrgy</th>\n",
       "      <td>1.000000</td>\n",
       "      <td>0.167209</td>\n",
       "    </tr>\n",
       "    <tr>\n",
       "      <th>dnce</th>\n",
       "      <td>0.167209</td>\n",
       "      <td>1.000000</td>\n",
       "    </tr>\n",
       "  </tbody>\n",
       "</table>\n",
       "</div>"
      ],
      "text/plain": [
       "          nrgy      dnce\n",
       "nrgy  1.000000  0.167209\n",
       "dnce  0.167209  1.000000"
      ]
     },
     "execution_count": 6,
     "metadata": {},
     "output_type": "execute_result"
    }
   ],
   "source": [
    "songs[['nrgy', 'dnce']].corr()"
   ]
  },
  {
   "cell_type": "code",
   "execution_count": 7,
   "metadata": {},
   "outputs": [
    {
     "data": {
      "image/png": "[encoded data removed]",
      "text/plain": [
       "<Figure size 432x288 with 1 Axes>"
      ]
     },
     "metadata": {
      "needs_background": "light"
     },
     "output_type": "display_data"
    }
   ],
   "source": [
    "songs.plot(kind='scatter', x='nrgy', y='dnce')\n",
    "\n",
    "plt.title('Correlation between song energy and danceability')\n",
    "plt.xlabel('Song energy')\n",
    "plt.ylabel('Song danceability')\n",
    "\n",
    "plt.show()"
   ]
  },
  {
   "cell_type": "markdown",
   "metadata": {},
   "source": [
    "Woah! There is almost no correlation. I did not expect this, but apparently high energy != high danceability."
   ]
  },
  {
   "cell_type": "markdown",
   "metadata": {},
   "source": [
    "What about bpm-nrgy & bpm-dnce?"
   ]
  },
  {
   "cell_type": "code",
   "execution_count": 9,
   "metadata": {},
   "outputs": [
    {
     "data": {
      "text/html": [
       "<div>\n",
       "<style scoped>\n",
       "    .dataframe tbody tr th:only-of-type {\n",
       "        vertical-align: middle;\n",
       "    }\n",
       "\n",
       "    .dataframe tbody tr th {\n",
       "        vertical-align: top;\n",
       "    }\n",
       "\n",
       "    .dataframe thead th {\n",
       "        text-align: right;\n",
       "    }\n",
       "</style>\n",
       "<table border=\"1\" class=\"dataframe\">\n",
       "  <thead>\n",
       "    <tr style=\"text-align: right;\">\n",
       "      <th></th>\n",
       "      <th>bpm</th>\n",
       "      <th>nrgy</th>\n",
       "    </tr>\n",
       "  </thead>\n",
       "  <tbody>\n",
       "    <tr>\n",
       "      <th>bpm</th>\n",
       "      <td>1.00000</td>\n",
       "      <td>0.12617</td>\n",
       "    </tr>\n",
       "    <tr>\n",
       "      <th>nrgy</th>\n",
       "      <td>0.12617</td>\n",
       "      <td>1.00000</td>\n",
       "    </tr>\n",
       "  </tbody>\n",
       "</table>\n",
       "</div>"
      ],
      "text/plain": [
       "          bpm     nrgy\n",
       "bpm   1.00000  0.12617\n",
       "nrgy  0.12617  1.00000"
      ]
     },
     "execution_count": 9,
     "metadata": {},
     "output_type": "execute_result"
    }
   ],
   "source": [
    "songs[['bpm', 'nrgy']].corr()"
   ]
  },
  {
   "cell_type": "code",
   "execution_count": 11,
   "metadata": {},
   "outputs": [
    {
     "data": {
      "image/png": "[encoded data removed]",
      "text/plain": [
       "<Figure size 432x288 with 1 Axes>"
      ]
     },
     "metadata": {
      "needs_background": "light"
     },
     "output_type": "display_data"
    }
   ],
   "source": [
    "songs.plot(kind='scatter', x='bpm', y='nrgy')\n",
    "\n",
    "plt.title('Correlation between bpm and song energy')\n",
    "plt.xlabel('Beats per minute')\n",
    "plt.ylabel('Song energy')\n",
    "\n",
    "plt.show()"
   ]
  },
  {
   "cell_type": "markdown",
   "metadata": {},
   "source": [
    "Once again, a very surprising result. I would expect higher bpm songs to be more energetic."
   ]
  },
  {
   "cell_type": "code",
   "execution_count": 12,
   "metadata": {},
   "outputs": [
    {
     "data": {
      "text/html": [
       "<div>\n",
       "<style scoped>\n",
       "    .dataframe tbody tr th:only-of-type {\n",
       "        vertical-align: middle;\n",
       "    }\n",
       "\n",
       "    .dataframe tbody tr th {\n",
       "        vertical-align: top;\n",
       "    }\n",
       "\n",
       "    .dataframe thead th {\n",
       "        text-align: right;\n",
       "    }\n",
       "</style>\n",
       "<table border=\"1\" class=\"dataframe\">\n",
       "  <thead>\n",
       "    <tr style=\"text-align: right;\">\n",
       "      <th></th>\n",
       "      <th>bpm</th>\n",
       "      <th>dnce</th>\n",
       "    </tr>\n",
       "  </thead>\n",
       "  <tbody>\n",
       "    <tr>\n",
       "      <th>bpm</th>\n",
       "      <td>1.000000</td>\n",
       "      <td>-0.131301</td>\n",
       "    </tr>\n",
       "    <tr>\n",
       "      <th>dnce</th>\n",
       "      <td>-0.131301</td>\n",
       "      <td>1.000000</td>\n",
       "    </tr>\n",
       "  </tbody>\n",
       "</table>\n",
       "</div>"
      ],
      "text/plain": [
       "           bpm      dnce\n",
       "bpm   1.000000 -0.131301\n",
       "dnce -0.131301  1.000000"
      ]
     },
     "execution_count": 12,
     "metadata": {},
     "output_type": "execute_result"
    }
   ],
   "source": [
    "songs[['bpm', 'dnce']].corr()"
   ]
  },
  {
   "cell_type": "code",
   "execution_count": 14,
   "metadata": {},
   "outputs": [
    {
     "data": {
      "image/png": "[encoded data removed]",
      "text/plain": [
       "<Figure size 432x288 with 1 Axes>"
      ]
     },
     "metadata": {
      "needs_background": "light"
     },
     "output_type": "display_data"
    }
   ],
   "source": [
    "songs.plot(kind='scatter', x='bpm', y='dnce')\n",
    "\n",
    "plt.title('Correlation between bpm and danceability')\n",
    "plt.xlabel('Beats per minute')\n",
    "plt.ylabel('Song danceability')\n",
    "\n",
    "plt.show()"
   ]
  },
  {
   "cell_type": "markdown",
   "metadata": {},
   "source": [
    "Once again, the same surprising result.\n",
    "\n",
    "I really expected bpm, energy and danceability to go hand in hand.\n",
    "\n",
    "Let's look at all the correlations to see if there is anything else that is interesting to look at."
   ]
  },
  {
   "cell_type": "code",
   "execution_count": 15,
   "metadata": {},
   "outputs": [
    {
     "data": {
      "text/html": [
       "<style  type=\"text/css\" >\n",
       "#T_34679092_6a12_11eb_bbb5_acde48001122row0_col0,#T_34679092_6a12_11eb_bbb5_acde48001122row1_col1,#T_34679092_6a12_11eb_bbb5_acde48001122row2_col2,#T_34679092_6a12_11eb_bbb5_acde48001122row3_col3,#T_34679092_6a12_11eb_bbb5_acde48001122row4_col4,#T_34679092_6a12_11eb_bbb5_acde48001122row5_col5,#T_34679092_6a12_11eb_bbb5_acde48001122row6_col6,#T_34679092_6a12_11eb_bbb5_acde48001122row7_col7,#T_34679092_6a12_11eb_bbb5_acde48001122row8_col8,#T_34679092_6a12_11eb_bbb5_acde48001122row9_col9,#T_34679092_6a12_11eb_bbb5_acde48001122row10_col10,#T_34679092_6a12_11eb_bbb5_acde48001122row11_col11{\n",
       "            background-color:  #b40426;\n",
       "            color:  #f1f1f1;\n",
       "        }#T_34679092_6a12_11eb_bbb5_acde48001122row0_col1,#T_34679092_6a12_11eb_bbb5_acde48001122row1_col0{\n",
       "            background-color:  #b50927;\n",
       "            color:  #f1f1f1;\n",
       "        }#T_34679092_6a12_11eb_bbb5_acde48001122row0_col2,#T_34679092_6a12_11eb_bbb5_acde48001122row2_col0,#T_34679092_6a12_11eb_bbb5_acde48001122row2_col9,#T_34679092_6a12_11eb_bbb5_acde48001122row9_col2{\n",
       "            background-color:  #9abbff;\n",
       "            color:  #000000;\n",
       "        }#T_34679092_6a12_11eb_bbb5_acde48001122row0_col3,#T_34679092_6a12_11eb_bbb5_acde48001122row1_col8,#T_34679092_6a12_11eb_bbb5_acde48001122row3_col0,#T_34679092_6a12_11eb_bbb5_acde48001122row8_col1{\n",
       "            background-color:  #82a6fb;\n",
       "            color:  #000000;\n",
       "        }#T_34679092_6a12_11eb_bbb5_acde48001122row0_col4,#T_34679092_6a12_11eb_bbb5_acde48001122row4_col0{\n",
       "            background-color:  #c3d5f4;\n",
       "            color:  #000000;\n",
       "        }#T_34679092_6a12_11eb_bbb5_acde48001122row0_col5,#T_34679092_6a12_11eb_bbb5_acde48001122row0_col6,#T_34679092_6a12_11eb_bbb5_acde48001122row0_col7,#T_34679092_6a12_11eb_bbb5_acde48001122row2_col4,#T_34679092_6a12_11eb_bbb5_acde48001122row4_col2,#T_34679092_6a12_11eb_bbb5_acde48001122row5_col0,#T_34679092_6a12_11eb_bbb5_acde48001122row6_col0,#T_34679092_6a12_11eb_bbb5_acde48001122row7_col0{\n",
       "            background-color:  #96b7ff;\n",
       "            color:  #000000;\n",
       "        }#T_34679092_6a12_11eb_bbb5_acde48001122row0_col8,#T_34679092_6a12_11eb_bbb5_acde48001122row8_col0{\n",
       "            background-color:  #84a7fc;\n",
       "            color:  #000000;\n",
       "        }#T_34679092_6a12_11eb_bbb5_acde48001122row0_col9,#T_34679092_6a12_11eb_bbb5_acde48001122row8_col9,#T_34679092_6a12_11eb_bbb5_acde48001122row9_col0,#T_34679092_6a12_11eb_bbb5_acde48001122row9_col8{\n",
       "            background-color:  #c6d6f1;\n",
       "            color:  #000000;\n",
       "        }#T_34679092_6a12_11eb_bbb5_acde48001122row0_col10,#T_34679092_6a12_11eb_bbb5_acde48001122row2_col7,#T_34679092_6a12_11eb_bbb5_acde48001122row7_col2,#T_34679092_6a12_11eb_bbb5_acde48001122row10_col0{\n",
       "            background-color:  #b6cefa;\n",
       "            color:  #000000;\n",
       "        }#T_34679092_6a12_11eb_bbb5_acde48001122row0_col11,#T_34679092_6a12_11eb_bbb5_acde48001122row11_col0{\n",
       "            background-color:  #d1dae9;\n",
       "            color:  #000000;\n",
       "        }#T_34679092_6a12_11eb_bbb5_acde48001122row1_col2,#T_34679092_6a12_11eb_bbb5_acde48001122row2_col1,#T_34679092_6a12_11eb_bbb5_acde48001122row8_col11,#T_34679092_6a12_11eb_bbb5_acde48001122row11_col8{\n",
       "            background-color:  #9dbdff;\n",
       "            color:  #000000;\n",
       "        }#T_34679092_6a12_11eb_bbb5_acde48001122row1_col3,#T_34679092_6a12_11eb_bbb5_acde48001122row3_col1{\n",
       "            background-color:  #81a4fb;\n",
       "            color:  #000000;\n",
       "        }#T_34679092_6a12_11eb_bbb5_acde48001122row1_col4,#T_34679092_6a12_11eb_bbb5_acde48001122row2_col6,#T_34679092_6a12_11eb_bbb5_acde48001122row4_col1,#T_34679092_6a12_11eb_bbb5_acde48001122row5_col6,#T_34679092_6a12_11eb_bbb5_acde48001122row6_col2,#T_34679092_6a12_11eb_bbb5_acde48001122row6_col5{\n",
       "            background-color:  #c4d5f3;\n",
       "            color:  #000000;\n",
       "        }#T_34679092_6a12_11eb_bbb5_acde48001122row1_col5,#T_34679092_6a12_11eb_bbb5_acde48001122row5_col1{\n",
       "            background-color:  #97b8ff;\n",
       "            color:  #000000;\n",
       "        }#T_34679092_6a12_11eb_bbb5_acde48001122row1_col6,#T_34679092_6a12_11eb_bbb5_acde48001122row6_col1{\n",
       "            background-color:  #94b6ff;\n",
       "            color:  #000000;\n",
       "        }#T_34679092_6a12_11eb_bbb5_acde48001122row1_col7,#T_34679092_6a12_11eb_bbb5_acde48001122row7_col1{\n",
       "            background-color:  #98b9ff;\n",
       "            color:  #000000;\n",
       "        }#T_34679092_6a12_11eb_bbb5_acde48001122row1_col9,#T_34679092_6a12_11eb_bbb5_acde48001122row6_col8,#T_34679092_6a12_11eb_bbb5_acde48001122row8_col6,#T_34679092_6a12_11eb_bbb5_acde48001122row9_col1{\n",
       "            background-color:  #c7d7f0;\n",
       "            color:  #000000;\n",
       "        }#T_34679092_6a12_11eb_bbb5_acde48001122row1_col10,#T_34679092_6a12_11eb_bbb5_acde48001122row9_col10,#T_34679092_6a12_11eb_bbb5_acde48001122row10_col1,#T_34679092_6a12_11eb_bbb5_acde48001122row10_col9{\n",
       "            background-color:  #b3cdfb;\n",
       "            color:  #000000;\n",
       "        }#T_34679092_6a12_11eb_bbb5_acde48001122row1_col11,#T_34679092_6a12_11eb_bbb5_acde48001122row11_col1{\n",
       "            background-color:  #e0dbd8;\n",
       "            color:  #000000;\n",
       "        }#T_34679092_6a12_11eb_bbb5_acde48001122row2_col3,#T_34679092_6a12_11eb_bbb5_acde48001122row3_col2,#T_34679092_6a12_11eb_bbb5_acde48001122row7_col10,#T_34679092_6a12_11eb_bbb5_acde48001122row10_col7{\n",
       "            background-color:  #ccd9ed;\n",
       "            color:  #000000;\n",
       "        }#T_34679092_6a12_11eb_bbb5_acde48001122row2_col5,#T_34679092_6a12_11eb_bbb5_acde48001122row3_col6,#T_34679092_6a12_11eb_bbb5_acde48001122row5_col2,#T_34679092_6a12_11eb_bbb5_acde48001122row6_col3{\n",
       "            background-color:  #d7dce3;\n",
       "            color:  #000000;\n",
       "        }#T_34679092_6a12_11eb_bbb5_acde48001122row2_col8,#T_34679092_6a12_11eb_bbb5_acde48001122row4_col6,#T_34679092_6a12_11eb_bbb5_acde48001122row4_col10,#T_34679092_6a12_11eb_bbb5_acde48001122row6_col4,#T_34679092_6a12_11eb_bbb5_acde48001122row8_col2,#T_34679092_6a12_11eb_bbb5_acde48001122row10_col4{\n",
       "            background-color:  #adc9fd;\n",
       "            color:  #000000;\n",
       "        }#T_34679092_6a12_11eb_bbb5_acde48001122row2_col10,#T_34679092_6a12_11eb_bbb5_acde48001122row8_col10,#T_34679092_6a12_11eb_bbb5_acde48001122row10_col2,#T_34679092_6a12_11eb_bbb5_acde48001122row10_col8{\n",
       "            background-color:  #bfd3f6;\n",
       "            color:  #000000;\n",
       "        }#T_34679092_6a12_11eb_bbb5_acde48001122row2_col11,#T_34679092_6a12_11eb_bbb5_acde48001122row6_col7,#T_34679092_6a12_11eb_bbb5_acde48001122row7_col6,#T_34679092_6a12_11eb_bbb5_acde48001122row11_col2{\n",
       "            background-color:  #b7cff9;\n",
       "            color:  #000000;\n",
       "        }#T_34679092_6a12_11eb_bbb5_acde48001122row3_col4,#T_34679092_6a12_11eb_bbb5_acde48001122row4_col3{\n",
       "            background-color:  #d4dbe6;\n",
       "            color:  #000000;\n",
       "        }#T_34679092_6a12_11eb_bbb5_acde48001122row3_col5,#T_34679092_6a12_11eb_bbb5_acde48001122row5_col3{\n",
       "            background-color:  #f7aa8c;\n",
       "            color:  #000000;\n",
       "        }#T_34679092_6a12_11eb_bbb5_acde48001122row3_col7,#T_34679092_6a12_11eb_bbb5_acde48001122row7_col3{\n",
       "            background-color:  #f4c5ad;\n",
       "            color:  #000000;\n",
       "        }#T_34679092_6a12_11eb_bbb5_acde48001122row3_col8,#T_34679092_6a12_11eb_bbb5_acde48001122row8_col3{\n",
       "            background-color:  #93b5fe;\n",
       "            color:  #000000;\n",
       "        }#T_34679092_6a12_11eb_bbb5_acde48001122row3_col9,#T_34679092_6a12_11eb_bbb5_acde48001122row9_col3{\n",
       "            background-color:  #3b4cc0;\n",
       "            color:  #f1f1f1;\n",
       "        }#T_34679092_6a12_11eb_bbb5_acde48001122row3_col10,#T_34679092_6a12_11eb_bbb5_acde48001122row10_col3{\n",
       "            background-color:  #c9d7f0;\n",
       "            color:  #000000;\n",
       "        }#T_34679092_6a12_11eb_bbb5_acde48001122row3_col11,#T_34679092_6a12_11eb_bbb5_acde48001122row11_col3{\n",
       "            background-color:  #a6c4fe;\n",
       "            color:  #000000;\n",
       "        }#T_34679092_6a12_11eb_bbb5_acde48001122row4_col5,#T_34679092_6a12_11eb_bbb5_acde48001122row5_col4{\n",
       "            background-color:  #dfdbd9;\n",
       "            color:  #000000;\n",
       "        }#T_34679092_6a12_11eb_bbb5_acde48001122row4_col7,#T_34679092_6a12_11eb_bbb5_acde48001122row7_col4{\n",
       "            background-color:  #f7b396;\n",
       "            color:  #000000;\n",
       "        }#T_34679092_6a12_11eb_bbb5_acde48001122row4_col8,#T_34679092_6a12_11eb_bbb5_acde48001122row8_col4{\n",
       "            background-color:  #8caffe;\n",
       "            color:  #000000;\n",
       "        }#T_34679092_6a12_11eb_bbb5_acde48001122row4_col9,#T_34679092_6a12_11eb_bbb5_acde48001122row9_col4{\n",
       "            background-color:  #7da0f9;\n",
       "            color:  #000000;\n",
       "        }#T_34679092_6a12_11eb_bbb5_acde48001122row4_col11,#T_34679092_6a12_11eb_bbb5_acde48001122row11_col4{\n",
       "            background-color:  #cbd8ee;\n",
       "            color:  #000000;\n",
       "        }#T_34679092_6a12_11eb_bbb5_acde48001122row5_col7,#T_34679092_6a12_11eb_bbb5_acde48001122row7_col5{\n",
       "            background-color:  #e7d7ce;\n",
       "            color:  #000000;\n",
       "        }#T_34679092_6a12_11eb_bbb5_acde48001122row5_col8,#T_34679092_6a12_11eb_bbb5_acde48001122row8_col5{\n",
       "            background-color:  #9bbcff;\n",
       "            color:  #000000;\n",
       "        }#T_34679092_6a12_11eb_bbb5_acde48001122row5_col9,#T_34679092_6a12_11eb_bbb5_acde48001122row9_col5{\n",
       "            background-color:  #88abfd;\n",
       "            color:  #000000;\n",
       "        }#T_34679092_6a12_11eb_bbb5_acde48001122row5_col10,#T_34679092_6a12_11eb_bbb5_acde48001122row10_col5{\n",
       "            background-color:  #b2ccfb;\n",
       "            color:  #000000;\n",
       "        }#T_34679092_6a12_11eb_bbb5_acde48001122row5_col11,#T_34679092_6a12_11eb_bbb5_acde48001122row11_col5{\n",
       "            background-color:  #d2dbe8;\n",
       "            color:  #000000;\n",
       "        }#T_34679092_6a12_11eb_bbb5_acde48001122row6_col9,#T_34679092_6a12_11eb_bbb5_acde48001122row9_col6{\n",
       "            background-color:  #9ebeff;\n",
       "            color:  #000000;\n",
       "        }#T_34679092_6a12_11eb_bbb5_acde48001122row6_col10,#T_34679092_6a12_11eb_bbb5_acde48001122row10_col6{\n",
       "            background-color:  #cfdaea;\n",
       "            color:  #000000;\n",
       "        }#T_34679092_6a12_11eb_bbb5_acde48001122row6_col11,#T_34679092_6a12_11eb_bbb5_acde48001122row11_col6{\n",
       "            background-color:  #a2c1ff;\n",
       "            color:  #000000;\n",
       "        }#T_34679092_6a12_11eb_bbb5_acde48001122row7_col8,#T_34679092_6a12_11eb_bbb5_acde48001122row8_col7{\n",
       "            background-color:  #799cf8;\n",
       "            color:  #000000;\n",
       "        }#T_34679092_6a12_11eb_bbb5_acde48001122row7_col9,#T_34679092_6a12_11eb_bbb5_acde48001122row9_col7{\n",
       "            background-color:  #7b9ff9;\n",
       "            color:  #000000;\n",
       "        }#T_34679092_6a12_11eb_bbb5_acde48001122row7_col11,#T_34679092_6a12_11eb_bbb5_acde48001122row11_col7{\n",
       "            background-color:  #bbd1f8;\n",
       "            color:  #000000;\n",
       "        }#T_34679092_6a12_11eb_bbb5_acde48001122row9_col11,#T_34679092_6a12_11eb_bbb5_acde48001122row11_col9{\n",
       "            background-color:  #b9d0f9;\n",
       "            color:  #000000;\n",
       "        }#T_34679092_6a12_11eb_bbb5_acde48001122row10_col11,#T_34679092_6a12_11eb_bbb5_acde48001122row11_col10{\n",
       "            background-color:  #aac7fd;\n",
       "            color:  #000000;\n",
       "        }</style><table id=\"T_34679092_6a12_11eb_bbb5_acde48001122\" ><thead>    <tr>        <th class=\"blank level0\" ></th>        <th class=\"col_heading level0 col0\" >Unnamed: 0</th>        <th class=\"col_heading level0 col1\" >year</th>        <th class=\"col_heading level0 col2\" >bpm</th>        <th class=\"col_heading level0 col3\" >nrgy</th>        <th class=\"col_heading level0 col4\" >dnce</th>        <th class=\"col_heading level0 col5\" >dB</th>        <th class=\"col_heading level0 col6\" >live</th>        <th class=\"col_heading level0 col7\" >val</th>        <th class=\"col_heading level0 col8\" >dur</th>        <th class=\"col_heading level0 col9\" >acous</th>        <th class=\"col_heading level0 col10\" >spch</th>        <th class=\"col_heading level0 col11\" >pop</th>    </tr></thead><tbody>\n",
       "                <tr>\n",
       "                        <th id=\"T_34679092_6a12_11eb_bbb5_acde48001122level0_row0\" class=\"row_heading level0 row0\" >Unnamed: 0</th>\n",
       "                        <td id=\"T_34679092_6a12_11eb_bbb5_acde48001122row0_col0\" class=\"data row0 col0\" >1.00</td>\n",
       "                        <td id=\"T_34679092_6a12_11eb_bbb5_acde48001122row0_col1\" class=\"data row0 col1\" >0.99</td>\n",
       "                        <td id=\"T_34679092_6a12_11eb_bbb5_acde48001122row0_col2\" class=\"data row0 col2\" >-0.11</td>\n",
       "                        <td id=\"T_34679092_6a12_11eb_bbb5_acde48001122row0_col3\" class=\"data row0 col3\" >-0.21</td>\n",
       "                        <td id=\"T_34679092_6a12_11eb_bbb5_acde48001122row0_col4\" class=\"data row0 col4\" >0.07</td>\n",
       "                        <td id=\"T_34679092_6a12_11eb_bbb5_acde48001122row0_col5\" class=\"data row0 col5\" >-0.13</td>\n",
       "                        <td id=\"T_34679092_6a12_11eb_bbb5_acde48001122row0_col6\" class=\"data row0 col6\" >-0.13</td>\n",
       "                        <td id=\"T_34679092_6a12_11eb_bbb5_acde48001122row0_col7\" class=\"data row0 col7\" >-0.13</td>\n",
       "                        <td id=\"T_34679092_6a12_11eb_bbb5_acde48001122row0_col8\" class=\"data row0 col8\" >-0.21</td>\n",
       "                        <td id=\"T_34679092_6a12_11eb_bbb5_acde48001122row0_col9\" class=\"data row0 col9\" >0.10</td>\n",
       "                        <td id=\"T_34679092_6a12_11eb_bbb5_acde48001122row0_col10\" class=\"data row0 col10\" >0.01</td>\n",
       "                        <td id=\"T_34679092_6a12_11eb_bbb5_acde48001122row0_col11\" class=\"data row0 col11\" >0.15</td>\n",
       "            </tr>\n",
       "            <tr>\n",
       "                        <th id=\"T_34679092_6a12_11eb_bbb5_acde48001122level0_row1\" class=\"row_heading level0 row1\" >year</th>\n",
       "                        <td id=\"T_34679092_6a12_11eb_bbb5_acde48001122row1_col0\" class=\"data row1 col0\" >0.99</td>\n",
       "                        <td id=\"T_34679092_6a12_11eb_bbb5_acde48001122row1_col1\" class=\"data row1 col1\" >1.00</td>\n",
       "                        <td id=\"T_34679092_6a12_11eb_bbb5_acde48001122row1_col2\" class=\"data row1 col2\" >-0.10</td>\n",
       "                        <td id=\"T_34679092_6a12_11eb_bbb5_acde48001122row1_col3\" class=\"data row1 col3\" >-0.23</td>\n",
       "                        <td id=\"T_34679092_6a12_11eb_bbb5_acde48001122row1_col4\" class=\"data row1 col4\" >0.08</td>\n",
       "                        <td id=\"T_34679092_6a12_11eb_bbb5_acde48001122row1_col5\" class=\"data row1 col5\" >-0.13</td>\n",
       "                        <td id=\"T_34679092_6a12_11eb_bbb5_acde48001122row1_col6\" class=\"data row1 col6\" >-0.14</td>\n",
       "                        <td id=\"T_34679092_6a12_11eb_bbb5_acde48001122row1_col7\" class=\"data row1 col7\" >-0.12</td>\n",
       "                        <td id=\"T_34679092_6a12_11eb_bbb5_acde48001122row1_col8\" class=\"data row1 col8\" >-0.22</td>\n",
       "                        <td id=\"T_34679092_6a12_11eb_bbb5_acde48001122row1_col9\" class=\"data row1 col9\" >0.10</td>\n",
       "                        <td id=\"T_34679092_6a12_11eb_bbb5_acde48001122row1_col10\" class=\"data row1 col10\" >0.00</td>\n",
       "                        <td id=\"T_34679092_6a12_11eb_bbb5_acde48001122row1_col11\" class=\"data row1 col11\" >0.24</td>\n",
       "            </tr>\n",
       "            <tr>\n",
       "                        <th id=\"T_34679092_6a12_11eb_bbb5_acde48001122level0_row2\" class=\"row_heading level0 row2\" >bpm</th>\n",
       "                        <td id=\"T_34679092_6a12_11eb_bbb5_acde48001122row2_col0\" class=\"data row2 col0\" >-0.11</td>\n",
       "                        <td id=\"T_34679092_6a12_11eb_bbb5_acde48001122row2_col1\" class=\"data row2 col1\" >-0.10</td>\n",
       "                        <td id=\"T_34679092_6a12_11eb_bbb5_acde48001122row2_col2\" class=\"data row2 col2\" >1.00</td>\n",
       "                        <td id=\"T_34679092_6a12_11eb_bbb5_acde48001122row2_col3\" class=\"data row2 col3\" >0.13</td>\n",
       "                        <td id=\"T_34679092_6a12_11eb_bbb5_acde48001122row2_col4\" class=\"data row2 col4\" >-0.13</td>\n",
       "                        <td id=\"T_34679092_6a12_11eb_bbb5_acde48001122row2_col5\" class=\"data row2 col5\" >0.18</td>\n",
       "                        <td id=\"T_34679092_6a12_11eb_bbb5_acde48001122row2_col6\" class=\"data row2 col6\" >0.08</td>\n",
       "                        <td id=\"T_34679092_6a12_11eb_bbb5_acde48001122row2_col7\" class=\"data row2 col7\" >0.02</td>\n",
       "                        <td id=\"T_34679092_6a12_11eb_bbb5_acde48001122row2_col8\" class=\"data row2 col8\" >-0.03</td>\n",
       "                        <td id=\"T_34679092_6a12_11eb_bbb5_acde48001122row2_col9\" class=\"data row2 col9\" >-0.11</td>\n",
       "                        <td id=\"T_34679092_6a12_11eb_bbb5_acde48001122row2_col10\" class=\"data row2 col10\" >0.06</td>\n",
       "                        <td id=\"T_34679092_6a12_11eb_bbb5_acde48001122row2_col11\" class=\"data row2 col11\" >0.02</td>\n",
       "            </tr>\n",
       "            <tr>\n",
       "                        <th id=\"T_34679092_6a12_11eb_bbb5_acde48001122level0_row3\" class=\"row_heading level0 row3\" >nrgy</th>\n",
       "                        <td id=\"T_34679092_6a12_11eb_bbb5_acde48001122row3_col0\" class=\"data row3 col0\" >-0.21</td>\n",
       "                        <td id=\"T_34679092_6a12_11eb_bbb5_acde48001122row3_col1\" class=\"data row3 col1\" >-0.23</td>\n",
       "                        <td id=\"T_34679092_6a12_11eb_bbb5_acde48001122row3_col2\" class=\"data row3 col2\" >0.13</td>\n",
       "                        <td id=\"T_34679092_6a12_11eb_bbb5_acde48001122row3_col3\" class=\"data row3 col3\" >1.00</td>\n",
       "                        <td id=\"T_34679092_6a12_11eb_bbb5_acde48001122row3_col4\" class=\"data row3 col4\" >0.17</td>\n",
       "                        <td id=\"T_34679092_6a12_11eb_bbb5_acde48001122row3_col5\" class=\"data row3 col5\" >0.54</td>\n",
       "                        <td id=\"T_34679092_6a12_11eb_bbb5_acde48001122row3_col6\" class=\"data row3 col6\" >0.19</td>\n",
       "                        <td id=\"T_34679092_6a12_11eb_bbb5_acde48001122row3_col7\" class=\"data row3 col7\" >0.41</td>\n",
       "                        <td id=\"T_34679092_6a12_11eb_bbb5_acde48001122row3_col8\" class=\"data row3 col8\" >-0.14</td>\n",
       "                        <td id=\"T_34679092_6a12_11eb_bbb5_acde48001122row3_col9\" class=\"data row3 col9\" >-0.56</td>\n",
       "                        <td id=\"T_34679092_6a12_11eb_bbb5_acde48001122row3_col10\" class=\"data row3 col10\" >0.11</td>\n",
       "                        <td id=\"T_34679092_6a12_11eb_bbb5_acde48001122row3_col11\" class=\"data row3 col11\" >-0.06</td>\n",
       "            </tr>\n",
       "            <tr>\n",
       "                        <th id=\"T_34679092_6a12_11eb_bbb5_acde48001122level0_row4\" class=\"row_heading level0 row4\" >dnce</th>\n",
       "                        <td id=\"T_34679092_6a12_11eb_bbb5_acde48001122row4_col0\" class=\"data row4 col0\" >0.07</td>\n",
       "                        <td id=\"T_34679092_6a12_11eb_bbb5_acde48001122row4_col1\" class=\"data row4 col1\" >0.08</td>\n",
       "                        <td id=\"T_34679092_6a12_11eb_bbb5_acde48001122row4_col2\" class=\"data row4 col2\" >-0.13</td>\n",
       "                        <td id=\"T_34679092_6a12_11eb_bbb5_acde48001122row4_col3\" class=\"data row4 col3\" >0.17</td>\n",
       "                        <td id=\"T_34679092_6a12_11eb_bbb5_acde48001122row4_col4\" class=\"data row4 col4\" >1.00</td>\n",
       "                        <td id=\"T_34679092_6a12_11eb_bbb5_acde48001122row4_col5\" class=\"data row4 col5\" >0.23</td>\n",
       "                        <td id=\"T_34679092_6a12_11eb_bbb5_acde48001122row4_col6\" class=\"data row4 col6\" >-0.03</td>\n",
       "                        <td id=\"T_34679092_6a12_11eb_bbb5_acde48001122row4_col7\" class=\"data row4 col7\" >0.50</td>\n",
       "                        <td id=\"T_34679092_6a12_11eb_bbb5_acde48001122row4_col8\" class=\"data row4 col8\" >-0.18</td>\n",
       "                        <td id=\"T_34679092_6a12_11eb_bbb5_acde48001122row4_col9\" class=\"data row4 col9\" >-0.24</td>\n",
       "                        <td id=\"T_34679092_6a12_11eb_bbb5_acde48001122row4_col10\" class=\"data row4 col10\" >-0.03</td>\n",
       "                        <td id=\"T_34679092_6a12_11eb_bbb5_acde48001122row4_col11\" class=\"data row4 col11\" >0.12</td>\n",
       "            </tr>\n",
       "            <tr>\n",
       "                        <th id=\"T_34679092_6a12_11eb_bbb5_acde48001122level0_row5\" class=\"row_heading level0 row5\" >dB</th>\n",
       "                        <td id=\"T_34679092_6a12_11eb_bbb5_acde48001122row5_col0\" class=\"data row5 col0\" >-0.13</td>\n",
       "                        <td id=\"T_34679092_6a12_11eb_bbb5_acde48001122row5_col1\" class=\"data row5 col1\" >-0.13</td>\n",
       "                        <td id=\"T_34679092_6a12_11eb_bbb5_acde48001122row5_col2\" class=\"data row5 col2\" >0.18</td>\n",
       "                        <td id=\"T_34679092_6a12_11eb_bbb5_acde48001122row5_col3\" class=\"data row5 col3\" >0.54</td>\n",
       "                        <td id=\"T_34679092_6a12_11eb_bbb5_acde48001122row5_col4\" class=\"data row5 col4\" >0.23</td>\n",
       "                        <td id=\"T_34679092_6a12_11eb_bbb5_acde48001122row5_col5\" class=\"data row5 col5\" >1.00</td>\n",
       "                        <td id=\"T_34679092_6a12_11eb_bbb5_acde48001122row5_col6\" class=\"data row5 col6\" >0.08</td>\n",
       "                        <td id=\"T_34679092_6a12_11eb_bbb5_acde48001122row5_col7\" class=\"data row5 col7\" >0.28</td>\n",
       "                        <td id=\"T_34679092_6a12_11eb_bbb5_acde48001122row5_col8\" class=\"data row5 col8\" >-0.10</td>\n",
       "                        <td id=\"T_34679092_6a12_11eb_bbb5_acde48001122row5_col9\" class=\"data row5 col9\" >-0.19</td>\n",
       "                        <td id=\"T_34679092_6a12_11eb_bbb5_acde48001122row5_col10\" class=\"data row5 col10\" >-0.00</td>\n",
       "                        <td id=\"T_34679092_6a12_11eb_bbb5_acde48001122row5_col11\" class=\"data row5 col11\" >0.16</td>\n",
       "            </tr>\n",
       "            <tr>\n",
       "                        <th id=\"T_34679092_6a12_11eb_bbb5_acde48001122level0_row6\" class=\"row_heading level0 row6\" >live</th>\n",
       "                        <td id=\"T_34679092_6a12_11eb_bbb5_acde48001122row6_col0\" class=\"data row6 col0\" >-0.13</td>\n",
       "                        <td id=\"T_34679092_6a12_11eb_bbb5_acde48001122row6_col1\" class=\"data row6 col1\" >-0.14</td>\n",
       "                        <td id=\"T_34679092_6a12_11eb_bbb5_acde48001122row6_col2\" class=\"data row6 col2\" >0.08</td>\n",
       "                        <td id=\"T_34679092_6a12_11eb_bbb5_acde48001122row6_col3\" class=\"data row6 col3\" >0.19</td>\n",
       "                        <td id=\"T_34679092_6a12_11eb_bbb5_acde48001122row6_col4\" class=\"data row6 col4\" >-0.03</td>\n",
       "                        <td id=\"T_34679092_6a12_11eb_bbb5_acde48001122row6_col5\" class=\"data row6 col5\" >0.08</td>\n",
       "                        <td id=\"T_34679092_6a12_11eb_bbb5_acde48001122row6_col6\" class=\"data row6 col6\" >1.00</td>\n",
       "                        <td id=\"T_34679092_6a12_11eb_bbb5_acde48001122row6_col7\" class=\"data row6 col7\" >0.02</td>\n",
       "                        <td id=\"T_34679092_6a12_11eb_bbb5_acde48001122row6_col8\" class=\"data row6 col8\" >0.10</td>\n",
       "                        <td id=\"T_34679092_6a12_11eb_bbb5_acde48001122row6_col9\" class=\"data row6 col9\" >-0.10</td>\n",
       "                        <td id=\"T_34679092_6a12_11eb_bbb5_acde48001122row6_col10\" class=\"data row6 col10\" >0.14</td>\n",
       "                        <td id=\"T_34679092_6a12_11eb_bbb5_acde48001122row6_col11\" class=\"data row6 col11\" >-0.08</td>\n",
       "            </tr>\n",
       "            <tr>\n",
       "                        <th id=\"T_34679092_6a12_11eb_bbb5_acde48001122level0_row7\" class=\"row_heading level0 row7\" >val</th>\n",
       "                        <td id=\"T_34679092_6a12_11eb_bbb5_acde48001122row7_col0\" class=\"data row7 col0\" >-0.13</td>\n",
       "                        <td id=\"T_34679092_6a12_11eb_bbb5_acde48001122row7_col1\" class=\"data row7 col1\" >-0.12</td>\n",
       "                        <td id=\"T_34679092_6a12_11eb_bbb5_acde48001122row7_col2\" class=\"data row7 col2\" >0.02</td>\n",
       "                        <td id=\"T_34679092_6a12_11eb_bbb5_acde48001122row7_col3\" class=\"data row7 col3\" >0.41</td>\n",
       "                        <td id=\"T_34679092_6a12_11eb_bbb5_acde48001122row7_col4\" class=\"data row7 col4\" >0.50</td>\n",
       "                        <td id=\"T_34679092_6a12_11eb_bbb5_acde48001122row7_col5\" class=\"data row7 col5\" >0.28</td>\n",
       "                        <td id=\"T_34679092_6a12_11eb_bbb5_acde48001122row7_col6\" class=\"data row7 col6\" >0.02</td>\n",
       "                        <td id=\"T_34679092_6a12_11eb_bbb5_acde48001122row7_col7\" class=\"data row7 col7\" >1.00</td>\n",
       "                        <td id=\"T_34679092_6a12_11eb_bbb5_acde48001122row7_col8\" class=\"data row7 col8\" >-0.26</td>\n",
       "                        <td id=\"T_34679092_6a12_11eb_bbb5_acde48001122row7_col9\" class=\"data row7 col9\" >-0.25</td>\n",
       "                        <td id=\"T_34679092_6a12_11eb_bbb5_acde48001122row7_col10\" class=\"data row7 col10\" >0.12</td>\n",
       "                        <td id=\"T_34679092_6a12_11eb_bbb5_acde48001122row7_col11\" class=\"data row7 col11\" >0.04</td>\n",
       "            </tr>\n",
       "            <tr>\n",
       "                        <th id=\"T_34679092_6a12_11eb_bbb5_acde48001122level0_row8\" class=\"row_heading level0 row8\" >dur</th>\n",
       "                        <td id=\"T_34679092_6a12_11eb_bbb5_acde48001122row8_col0\" class=\"data row8 col0\" >-0.21</td>\n",
       "                        <td id=\"T_34679092_6a12_11eb_bbb5_acde48001122row8_col1\" class=\"data row8 col1\" >-0.22</td>\n",
       "                        <td id=\"T_34679092_6a12_11eb_bbb5_acde48001122row8_col2\" class=\"data row8 col2\" >-0.03</td>\n",
       "                        <td id=\"T_34679092_6a12_11eb_bbb5_acde48001122row8_col3\" class=\"data row8 col3\" >-0.14</td>\n",
       "                        <td id=\"T_34679092_6a12_11eb_bbb5_acde48001122row8_col4\" class=\"data row8 col4\" >-0.18</td>\n",
       "                        <td id=\"T_34679092_6a12_11eb_bbb5_acde48001122row8_col5\" class=\"data row8 col5\" >-0.10</td>\n",
       "                        <td id=\"T_34679092_6a12_11eb_bbb5_acde48001122row8_col6\" class=\"data row8 col6\" >0.10</td>\n",
       "                        <td id=\"T_34679092_6a12_11eb_bbb5_acde48001122row8_col7\" class=\"data row8 col7\" >-0.26</td>\n",
       "                        <td id=\"T_34679092_6a12_11eb_bbb5_acde48001122row8_col8\" class=\"data row8 col8\" >1.00</td>\n",
       "                        <td id=\"T_34679092_6a12_11eb_bbb5_acde48001122row8_col9\" class=\"data row8 col9\" >0.09</td>\n",
       "                        <td id=\"T_34679092_6a12_11eb_bbb5_acde48001122row8_col10\" class=\"data row8 col10\" >0.05</td>\n",
       "                        <td id=\"T_34679092_6a12_11eb_bbb5_acde48001122row8_col11\" class=\"data row8 col11\" >-0.10</td>\n",
       "            </tr>\n",
       "            <tr>\n",
       "                        <th id=\"T_34679092_6a12_11eb_bbb5_acde48001122level0_row9\" class=\"row_heading level0 row9\" >acous</th>\n",
       "                        <td id=\"T_34679092_6a12_11eb_bbb5_acde48001122row9_col0\" class=\"data row9 col0\" >0.10</td>\n",
       "                        <td id=\"T_34679092_6a12_11eb_bbb5_acde48001122row9_col1\" class=\"data row9 col1\" >0.10</td>\n",
       "                        <td id=\"T_34679092_6a12_11eb_bbb5_acde48001122row9_col2\" class=\"data row9 col2\" >-0.11</td>\n",
       "                        <td id=\"T_34679092_6a12_11eb_bbb5_acde48001122row9_col3\" class=\"data row9 col3\" >-0.56</td>\n",
       "                        <td id=\"T_34679092_6a12_11eb_bbb5_acde48001122row9_col4\" class=\"data row9 col4\" >-0.24</td>\n",
       "                        <td id=\"T_34679092_6a12_11eb_bbb5_acde48001122row9_col5\" class=\"data row9 col5\" >-0.19</td>\n",
       "                        <td id=\"T_34679092_6a12_11eb_bbb5_acde48001122row9_col6\" class=\"data row9 col6\" >-0.10</td>\n",
       "                        <td id=\"T_34679092_6a12_11eb_bbb5_acde48001122row9_col7\" class=\"data row9 col7\" >-0.25</td>\n",
       "                        <td id=\"T_34679092_6a12_11eb_bbb5_acde48001122row9_col8\" class=\"data row9 col8\" >0.09</td>\n",
       "                        <td id=\"T_34679092_6a12_11eb_bbb5_acde48001122row9_col9\" class=\"data row9 col9\" >1.00</td>\n",
       "                        <td id=\"T_34679092_6a12_11eb_bbb5_acde48001122row9_col10\" class=\"data row9 col10\" >0.00</td>\n",
       "                        <td id=\"T_34679092_6a12_11eb_bbb5_acde48001122row9_col11\" class=\"data row9 col11\" >0.03</td>\n",
       "            </tr>\n",
       "            <tr>\n",
       "                        <th id=\"T_34679092_6a12_11eb_bbb5_acde48001122level0_row10\" class=\"row_heading level0 row10\" >spch</th>\n",
       "                        <td id=\"T_34679092_6a12_11eb_bbb5_acde48001122row10_col0\" class=\"data row10 col0\" >0.01</td>\n",
       "                        <td id=\"T_34679092_6a12_11eb_bbb5_acde48001122row10_col1\" class=\"data row10 col1\" >0.00</td>\n",
       "                        <td id=\"T_34679092_6a12_11eb_bbb5_acde48001122row10_col2\" class=\"data row10 col2\" >0.06</td>\n",
       "                        <td id=\"T_34679092_6a12_11eb_bbb5_acde48001122row10_col3\" class=\"data row10 col3\" >0.11</td>\n",
       "                        <td id=\"T_34679092_6a12_11eb_bbb5_acde48001122row10_col4\" class=\"data row10 col4\" >-0.03</td>\n",
       "                        <td id=\"T_34679092_6a12_11eb_bbb5_acde48001122row10_col5\" class=\"data row10 col5\" >-0.00</td>\n",
       "                        <td id=\"T_34679092_6a12_11eb_bbb5_acde48001122row10_col6\" class=\"data row10 col6\" >0.14</td>\n",
       "                        <td id=\"T_34679092_6a12_11eb_bbb5_acde48001122row10_col7\" class=\"data row10 col7\" >0.12</td>\n",
       "                        <td id=\"T_34679092_6a12_11eb_bbb5_acde48001122row10_col8\" class=\"data row10 col8\" >0.05</td>\n",
       "                        <td id=\"T_34679092_6a12_11eb_bbb5_acde48001122row10_col9\" class=\"data row10 col9\" >0.00</td>\n",
       "                        <td id=\"T_34679092_6a12_11eb_bbb5_acde48001122row10_col10\" class=\"data row10 col10\" >1.00</td>\n",
       "                        <td id=\"T_34679092_6a12_11eb_bbb5_acde48001122row10_col11\" class=\"data row10 col11\" >-0.04</td>\n",
       "            </tr>\n",
       "            <tr>\n",
       "                        <th id=\"T_34679092_6a12_11eb_bbb5_acde48001122level0_row11\" class=\"row_heading level0 row11\" >pop</th>\n",
       "                        <td id=\"T_34679092_6a12_11eb_bbb5_acde48001122row11_col0\" class=\"data row11 col0\" >0.15</td>\n",
       "                        <td id=\"T_34679092_6a12_11eb_bbb5_acde48001122row11_col1\" class=\"data row11 col1\" >0.24</td>\n",
       "                        <td id=\"T_34679092_6a12_11eb_bbb5_acde48001122row11_col2\" class=\"data row11 col2\" >0.02</td>\n",
       "                        <td id=\"T_34679092_6a12_11eb_bbb5_acde48001122row11_col3\" class=\"data row11 col3\" >-0.06</td>\n",
       "                        <td id=\"T_34679092_6a12_11eb_bbb5_acde48001122row11_col4\" class=\"data row11 col4\" >0.12</td>\n",
       "                        <td id=\"T_34679092_6a12_11eb_bbb5_acde48001122row11_col5\" class=\"data row11 col5\" >0.16</td>\n",
       "                        <td id=\"T_34679092_6a12_11eb_bbb5_acde48001122row11_col6\" class=\"data row11 col6\" >-0.08</td>\n",
       "                        <td id=\"T_34679092_6a12_11eb_bbb5_acde48001122row11_col7\" class=\"data row11 col7\" >0.04</td>\n",
       "                        <td id=\"T_34679092_6a12_11eb_bbb5_acde48001122row11_col8\" class=\"data row11 col8\" >-0.10</td>\n",
       "                        <td id=\"T_34679092_6a12_11eb_bbb5_acde48001122row11_col9\" class=\"data row11 col9\" >0.03</td>\n",
       "                        <td id=\"T_34679092_6a12_11eb_bbb5_acde48001122row11_col10\" class=\"data row11 col10\" >-0.04</td>\n",
       "                        <td id=\"T_34679092_6a12_11eb_bbb5_acde48001122row11_col11\" class=\"data row11 col11\" >1.00</td>\n",
       "            </tr>\n",
       "    </tbody></table>"
      ],
      "text/plain": [
       "<pandas.io.formats.style.Styler at 0x7f839d19b1f0>"
      ]
     },
     "execution_count": 15,
     "metadata": {},
     "output_type": "execute_result"
    }
   ],
   "source": [
    "songsCorr = songs.corr()\n",
    "songsCorr.style.background_gradient(cmap='coolwarm', axis=None).set_precision(2)"
   ]
  },
  {
   "cell_type": "markdown",
   "metadata": {},
   "source": [
    "The highest positive value is nrgy - db and the highest negative value is acous-nrgy. Let's have a look!"
   ]
  },
  {
   "cell_type": "code",
   "execution_count": 16,
   "metadata": {},
   "outputs": [
    {
     "data": {
      "image/png": "[encoded data removed]",
      "text/plain": [
       "<Figure size 432x288 with 1 Axes>"
      ]
     },
     "metadata": {
      "needs_background": "light"
     },
     "output_type": "display_data"
    }
   ],
   "source": [
    "songs.plot(kind='scatter', x='nrgy', y='dB')\n",
    "\n",
    "plt.title('Correlation between song energy and sound level')\n",
    "plt.xlabel('Song energy')\n",
    "plt.ylabel('Sound level in dB')\n",
    "\n",
    "plt.show()"
   ]
  },
  {
   "cell_type": "markdown",
   "metadata": {},
   "source": [
    "There seems to be an outlier at -60 dB, let's exclude this one for a clearer plot."
   ]
  },
  {
   "cell_type": "code",
   "execution_count": 26,
   "metadata": {},
   "outputs": [
    {
     "data": {
      "image/png": "[encoded data removed]",
      "text/plain": [
       "<Figure size 432x288 with 1 Axes>"
      ]
     },
     "metadata": {
      "needs_background": "light"
     },
     "output_type": "display_data"
    }
   ],
   "source": [
    "songs = songs[songs['dB'] > -20]\n",
    "\n",
    "songs.plot(kind='scatter', x='nrgy', y='dB')\n",
    "\n",
    "plt.title('Correlation between song energy and sound level')\n",
    "plt.xlabel('Song energy')\n",
    "plt.ylabel('Sound level in dB')\n",
    "\n",
    "plt.show()"
   ]
  },
  {
   "cell_type": "markdown",
   "metadata": {},
   "source": [
    "The correlation is much clearer here. As the sound level increases, so does the song energy."
   ]
  },
  {
   "cell_type": "code",
   "execution_count": 27,
   "metadata": {},
   "outputs": [
    {
     "data": {
      "image/png": "[encoded data removed]",
      "text/plain": [
       "<Figure size 432x288 with 1 Axes>"
      ]
     },
     "metadata": {
      "needs_background": "light"
     },
     "output_type": "display_data"
    }
   ],
   "source": [
    "songs.plot(kind='scatter', x='acous', y='nrgy')\n",
    "\n",
    "plt.title('Correlation between song acousticness and energy')\n",
    "plt.xlabel('Song acousticness')\n",
    "plt.ylabel('Sound energy')\n",
    "\n",
    "plt.show()"
   ]
  },
  {
   "cell_type": "markdown",
   "metadata": {},
   "source": [
    "What we see here is that most songs are barely acoustic, but as the acousticness increases, the song energy decreases."
   ]
  }
 ],
 "metadata": {
  "kernelspec": {
   "display_name": "Python 3",
   "language": "python",
   "name": "python3"
  },
  "language_info": {
   "codemirror_mode": {
    "name": "ipython",
    "version": 3
   },
   "file_extension": ".py",
   "mimetype": "text/x-python",
   "name": "python",
   "nbconvert_exporter": "python",
   "pygments_lexer": "ipython3",
   "version": "3.8.5"
  }
 },
 "nbformat": 4,
 "nbformat_minor": 4
}
